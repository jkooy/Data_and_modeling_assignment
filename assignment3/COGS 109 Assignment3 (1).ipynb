{
 "cells": [
  {
   "cell_type": "markdown",
   "metadata": {},
   "source": [
    "# COGS 109 - Assignment 3:  Perception & KNN"
   ]
  },
  {
   "cell_type": "markdown",
   "metadata": {},
   "source": [
    "**You must submit this file (`Assignment3.ipynb`) to finish the homework.**\n",
    "\n",
    "The goal of this assignment is to make you familiar with using the Python and running Percepetion (neural network) and KNN on breast cancer dataset.\n",
    "\n",
    "You need to complete all the parts makerd with '# To be completed'"
   ]
  },
  {
   "cell_type": "markdown",
   "metadata": {},
   "source": [
    "## First part.  Use numpy to build a neural network to do malignant prediction"
   ]
  },
  {
   "cell_type": "code",
   "execution_count": 1,
   "metadata": {},
   "outputs": [],
   "source": [
    "from sklearn.datasets import load_breast_cancer\n",
    "import numpy as np\n",
    "import matplotlib.pyplot as plt\n",
    "import pandas as pd\n",
    "import numpy as np\n",
    "\n",
    "%matplotlib inline"
   ]
  },
  {
   "cell_type": "markdown",
   "metadata": {},
   "source": [
    "Load the breast cancer data."
   ]
  },
  {
   "cell_type": "code",
   "execution_count": 2,
   "metadata": {},
   "outputs": [
    {
     "name": "stdout",
     "output_type": "stream",
     "text": [
      "(569, 30)\n",
      "(569,)\n"
     ]
    }
   ],
   "source": [
    "cancer = load_breast_cancer()\n",
    "data = cancer.data\n",
    "\n",
    "print(cancer.data.shape)\n",
    "print(cancer.target.shape)"
   ]
  },
  {
   "cell_type": "code",
   "execution_count": 3,
   "metadata": {},
   "outputs": [],
   "source": [
    "class NeuralNetwork(object):\n",
    "    def __init__(self, layer_sizes):\n",
    "        self.layer_sizes = layer_sizes\n",
    "        self.W = []\n",
    "        \n",
    "        for i in range(1, len(layer_sizes)):\n",
    "            self.W.append(np.random.randn(self.layer_sizes[i-1], self.layer_sizes[i]))\n",
    "    \n",
    "    def sigmoid(self, z):\n",
    "        return 1/(1+np.exp(-z))\n",
    "    \n",
    "    def sigmoid_prime(self, z):\n",
    "        return self.sigmoid(z)*(1-self.sigmoid(z))\n",
    "    \n",
    "    def forward(self, X):\n",
    "        z = []; a = [X]\n",
    "        for weights in range(len(self.W)):\n",
    "            z.append(np.dot(a[weights], self.W[weights]))\n",
    "            a.append(self.sigmoid(z[-1]))\n",
    "        return z, a\n",
    "    \n",
    "    def fit(self, X, Y, iterations=2000, learning_rate=0.01):\n",
    "        costs = []\n",
    "        for i in range(iterations):\n",
    "            z, a = self.forward(X)\n",
    "            \n",
    "            if i%100 == 0:\n",
    "                costs.append([len(costs), np.sum(0.5*(a[-1] - Y)**2)])\n",
    "                \n",
    "            deltaNPlus1 = np.multiply((a[-1] - Y), self.sigmoid_prime(z[-1])) \n",
    "            rateOfChange = np.dot(a[-2].T, deltaNPlus1) \n",
    "            self.W[-1] -= learning_rate * rateOfChange\n",
    "            \n",
    "            for n in range(len(self.W)-2, -1, -1):\n",
    "                deltaN = np.multiply(\n",
    "                                np.dot(deltaNPlus1, self.W[n+1].T),\n",
    "                                self.sigmoid_prime(z[n])\n",
    "                                )\n",
    "\n",
    "                c = np.dot(a[n].T, deltaN)\n",
    "                self.W[n] -= learning_rate * c\n",
    "                deltaNPlus1 = deltaN\n",
    "        \n",
    "        return costs\n",
    "            \n",
    "    def predict(self, X):\n",
    "        return self.forward(X)[1][-1]"
   ]
  },
  {
   "cell_type": "markdown",
   "metadata": {},
   "source": [
    "Separate training and testing data randomly."
   ]
  },
  {
   "cell_type": "code",
   "execution_count": 4,
   "metadata": {},
   "outputs": [],
   "source": [
    "#Training data\n",
    "train_size = 557\n",
    "train_x = cancer.data[:train_size]\n",
    "train_y = np.array([[i] for i in cancer.target[:train_size]])"
   ]
  },
  {
   "cell_type": "code",
   "execution_count": 5,
   "metadata": {},
   "outputs": [],
   "source": [
    "#Testing data\n",
    "test_x = cancer.data[train_size:]\n",
    "test_y = np.array([[i, (i+1)%2] for i in cancer.target[train_size:]])"
   ]
  },
  {
   "cell_type": "markdown",
   "metadata": {},
   "source": [
    "Initialize the neural network"
   ]
  },
  {
   "cell_type": "code",
   "execution_count": 6,
   "metadata": {},
   "outputs": [],
   "source": [
    "NN = NeuralNetwork((30, 45, 2))"
   ]
  },
  {
   "cell_type": "markdown",
   "metadata": {},
   "source": [
    "Train the network"
   ]
  },
  {
   "cell_type": "code",
   "execution_count": 9,
   "metadata": {},
   "outputs": [
    {
     "ename": "SyntaxError",
     "evalue": "unexpected EOF while parsing (<ipython-input-9-010e9d35f5bc>, line 2)",
     "output_type": "error",
     "traceback": [
      "\u001b[0;36m  File \u001b[0;32m\"<ipython-input-9-010e9d35f5bc>\"\u001b[0;36m, line \u001b[0;32m2\u001b[0m\n\u001b[0;31m    costs = NN.fit(train_x, train_y, iterations= # To be completed, learning_rate= # To be completed)\u001b[0m\n\u001b[0m                                                                                                     ^\u001b[0m\n\u001b[0;31mSyntaxError\u001b[0m\u001b[0;31m:\u001b[0m unexpected EOF while parsing\n"
     ]
    }
   ],
   "source": [
    "# Set a proper learning rate and maximum iteration number yourself\n",
    "costs = NN.fit(train_x, train_y, iterations= # To be completed, learning_rate= # To be completed)"
   ]
  },
  {
   "cell_type": "markdown",
   "metadata": {},
   "source": [
    "Test the network"
   ]
  },
  {
   "cell_type": "code",
   "execution_count": 8,
   "metadata": {
    "scrolled": false
   },
   "outputs": [
    {
     "name": "stdout",
     "output_type": "stream",
     "text": [
      "Benign\t\t[0.87229531 0.8815538 ]\t\t1\n",
      "Benign\t\t[0.87229531 0.8815538 ]\t\t1\n",
      "Benign\t\t[0.87229531 0.8815538 ]\t\t1\n",
      "Benign\t\t[0.87229531 0.8815538 ]\t\t1\n",
      "Benign\t\t[0.87229531 0.8815538 ]\t\t1\n",
      "Benign\t\t[0.36400568 0.45206774]\t\t0\n",
      "Malignant\t[0.14664745 0.13422659]\t\t0\n",
      "Malignant\t[0.14664745 0.13422659]\t\t0\n",
      "Malignant\t[0.14664745 0.13422659]\t\t0\n",
      "Malignant\t[0.14664745 0.13422659]\t\t0\n",
      "Malignant\t[0.14664745 0.13422659]\t\t0\n",
      "Malignant\t[0.67224097 0.58309676]\t\t1\n",
      "\n",
      "Accuracy: 16.667%\n"
     ]
    },
    {
     "name": "stderr",
     "output_type": "stream",
     "text": [
      "/opt/conda/lib/python3.7/site-packages/ipykernel_launcher.py:10: RuntimeWarning: overflow encountered in exp\n",
      "  # Remove the CWD from sys.path while we load stuff.\n"
     ]
    }
   ],
   "source": [
    "h = NN.predict(test_x)\n",
    "\n",
    "correct = 0\n",
    "total = 0\n",
    "\n",
    "\n",
    "for line in range(len(h)):\n",
    "    result = h[line]\n",
    "    if max(result) == h[line, 0]: # if first item is greatest\n",
    "        print(\"Malignant\", end='\\t')\n",
    "        if cancer.target[train_size+line] == 1:\n",
    "            correct += 1\n",
    "    else:\n",
    "        print('Benign', end='\\t\\t')\n",
    "        if cancer.target[train_size+line] == 0:\n",
    "            correct += 1\n",
    "    \n",
    "    print(result, end='\\t\\t')\n",
    "    print(cancer.target[train_size+line])\n",
    "    total += 1\n",
    "\n",
    "print('\\nAccuracy: '+str(round(correct*100/total, 3))+'%')"
   ]
  },
  {
   "cell_type": "code",
   "execution_count": null,
   "metadata": {},
   "outputs": [],
   "source": [
    "# Youl should be able to get a much higher accuracy with a \n",
    "# proper iterations ( 1000 ~ 10000) and learning rate (1e-4 ~ 1e-4) than the value above"
   ]
  },
  {
   "cell_type": "markdown",
   "metadata": {},
   "source": [
    "## Second part.  Use KNN to do malignant prediction"
   ]
  },
  {
   "cell_type": "code",
   "execution_count": 8,
   "metadata": {},
   "outputs": [
    {
     "ename": "SyntaxError",
     "evalue": "invalid syntax (<ipython-input-8-95421c91c7cd>, line 33)",
     "output_type": "error",
     "traceback": [
      "\u001b[0;36m  File \u001b[0;32m\"<ipython-input-8-95421c91c7cd>\"\u001b[0;36m, line \u001b[0;32m33\u001b[0m\n\u001b[0;31m    new_tests = np.array([[10, 10, 2, 3, 10, 2, 1, 8, 44], [10, 1, 12, 3, 1, 12, 1, 8, 12], [3, 1, 1, 3, 1, 12, 1, 2, 1]])\u001b[0m\n\u001b[0m            ^\u001b[0m\n\u001b[0;31mSyntaxError\u001b[0m\u001b[0;31m:\u001b[0m invalid syntax\n"
     ]
    }
   ],
   "source": [
    "import pandas as pd\n",
    "import numpy as np\n",
    "from sklearn import neighbors, preprocessing\n",
    "from sklearn import model_selection as cross_validate\n",
    "\n",
    "data = pd.read_csv('breast-cancer-wisconsin.data')\n",
    "\n",
    "# delete the unwanted id column\n",
    "data.drop(['id'], 1, inplace=True)\n",
    "\n",
    "# make up for missing entries\n",
    "data.replace('?', -9999, inplace=True)\n",
    "\n",
    "# get our attributes and classes in place\n",
    "X = np.array(data.drop(['class'], 1))\n",
    "y = np.array(data['class'])\n",
    "\n",
    "# split data into training and testing sections\n",
    "X_train, X_test, y_train, y_test = cross_validate.train_test_split(X, y, test_size=0.2)\n",
    "\n",
    "# initialize our classifier\n",
    "knn = neighbors.KNeighborsClassifier()\n",
    "\n",
    "# fit the classifier with the training data\n",
    "knn.fit(# To be completed)\n",
    "\n",
    "\n",
    "# calculating accuracy with test data\n",
    "accuracy = knn.score(X_test, y_test)\n",
    "\n",
    "# let's make a prediction\n",
    "new_tests = np.array([[10, 10, 2, 3, 10, 2, 1, 8, 44], [10, 1, 12, 3, 1, 12, 1, 8, 12], [3, 1, 1, 3, 1, 12, 1, 2, 1]])\n",
    "new_tests = new_tests.reshape(len(new_tests), -1)\n",
    "prediction = knn.predict(new_tests)\n",
    "\n",
    "# print out details\n",
    "print (\"Accuracy: \", accuracy)\n",
    "\n",
    "print (\"Predictions:\")\n",
    "for pred in prediction:\n",
    "\tif pred == 2:\n",
    "\t\tprint(pred, \"Benign\")\n",
    "\telse: print(pred, \"Malignant\")"
   ]
  },
  {
   "cell_type": "code",
   "execution_count": null,
   "metadata": {},
   "outputs": [],
   "source": []
  }
 ],
 "metadata": {
  "kernelspec": {
   "display_name": "Python 3",
   "language": "python",
   "name": "python3"
  },
  "language_info": {
   "codemirror_mode": {
    "name": "ipython",
    "version": 3
   },
   "file_extension": ".py",
   "mimetype": "text/x-python",
   "name": "python",
   "nbconvert_exporter": "python",
   "pygments_lexer": "ipython3",
   "version": "3.7.3"
  }
 },
 "nbformat": 4,
 "nbformat_minor": 2
}
