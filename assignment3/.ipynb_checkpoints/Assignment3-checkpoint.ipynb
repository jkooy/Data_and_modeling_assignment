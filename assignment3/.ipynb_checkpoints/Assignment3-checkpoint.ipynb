{
 "cells": [
  {
   "cell_type": "code",
   "execution_count": 1,
   "metadata": {
    "collapsed": true
   },
   "outputs": [],
   "source": [
    "from sklearn.datasets import load_breast_cancer\n",
    "import numpy as np\n",
    "import matplotlib.pyplot as plt\n",
    "\n",
    "%matplotlib inline"
   ]
  },
  {
   "cell_type": "markdown",
   "metadata": {},
   "source": [
    "Load the breast cancer data."
   ]
  },
  {
   "cell_type": "code",
   "execution_count": 2,
   "metadata": {
    "collapsed": false
   },
   "outputs": [
    {
     "name": "stdout",
     "output_type": "stream",
     "text": [
      "(569, 30)\n",
      "(569,)\n"
     ]
    }
   ],
   "source": [
    "cancer = load_breast_cancer()\n",
    "data = cancer.data\n",
    "\n",
    "print(cancer.data.shape)\n",
    "print(cancer.target.shape)\n",
    "\n",
    "#print(cancer.DESCR) # 569\n",
    "#print(cancer.feature_names)\n",
    "#print(cancer.target_names)"
   ]
  },
  {
   "cell_type": "code",
   "execution_count": 3,
   "metadata": {
    "collapsed": true
   },
   "outputs": [],
   "source": [
    "class NeuralNetwork(object):\n",
    "    def __init__(self, layer_sizes):\n",
    "        self.layer_sizes = layer_sizes\n",
    "        self.W = []\n",
    "        \n",
    "        for i in range(1, len(layer_sizes)):\n",
    "            self.W.append(np.random.randn(self.layer_sizes[i-1], self.layer_sizes[i]))\n",
    "    \n",
    "    def sigmoid(self, z):\n",
    "        return 1/(1+np.exp(-z))\n",
    "    \n",
    "    def sigmoid_prime(self, z):\n",
    "        return self.sigmoid(z)*(1-self.sigmoid(z))\n",
    "    \n",
    "    def forward(self, X):\n",
    "        z = []; a = [X]\n",
    "        for weights in range(len(self.W)):\n",
    "            z.append(np.dot(a[weights], self.W[weights]))\n",
    "            a.append(self.sigmoid(z[-1]))\n",
    "        return z, a\n",
    "    \n",
    "    def fit(self, X, Y, iterations=2000, learning_rate=0.01):\n",
    "        costs = []\n",
    "        for i in range(iterations):\n",
    "            z, a = self.forward(X)\n",
    "            \n",
    "            if i%100 == 0:\n",
    "                costs.append([len(costs), np.sum(0.5*(a[-1] - Y)**2)])\n",
    "                \n",
    "            deltaNPlus1 = np.multiply((a[-1] - Y), self.sigmoid_prime(z[-1])) # (500, 1)\n",
    "            rateOfChange = np.dot(a[-2].T, deltaNPlus1) # (30, 500)*(500, 1) = (30, 1)\n",
    "            self.W[-1] -= learning_rate * rateOfChange\n",
    "            \n",
    "            for n in range(len(self.W)-2, -1, -1):\n",
    "                deltaN = np.multiply(\n",
    "                                np.dot(deltaNPlus1, self.W[n+1].T),\n",
    "                                self.sigmoid_prime(z[n])\n",
    "                                )\n",
    "\n",
    "                c = np.dot(a[n].T, deltaN)\n",
    "                self.W[n] -= learning_rate * c\n",
    "                deltaNPlus1 = deltaN\n",
    "        \n",
    "        return costs\n",
    "            \n",
    "    def predict(self, X):\n",
    "        return self.forward(X)[1][-1]"
   ]
  },
  {
   "cell_type": "markdown",
   "metadata": {},
   "source": [
    "Separate training and testing data randomly."
   ]
  },
  {
   "cell_type": "code",
   "execution_count": 4,
   "metadata": {
    "collapsed": false
   },
   "outputs": [],
   "source": [
    "#Training data\n",
    "train_size = 557\n",
    "train_x = cancer.data[:train_size]\n",
    "train_y = np.array([[i] for i in cancer.target[:train_size]])"
   ]
  },
  {
   "cell_type": "code",
   "execution_count": 5,
   "metadata": {
    "collapsed": true
   },
   "outputs": [],
   "source": [
    "#Testing data\n",
    "test_x = cancer.data[train_size:]\n",
    "test_y = np.array([[i, (i+1)%2] for i in cancer.target[train_size:]])"
   ]
  },
  {
   "cell_type": "markdown",
   "metadata": {},
   "source": [
    "Initialize the neural network"
   ]
  },
  {
   "cell_type": "code",
   "execution_count": 6,
   "metadata": {
    "collapsed": true
   },
   "outputs": [],
   "source": [
    "NN = NeuralNetwork((30, 45, 2))"
   ]
  },
  {
   "cell_type": "markdown",
   "metadata": {},
   "source": [
    "Train the network"
   ]
  },
  {
   "cell_type": "code",
   "execution_count": 7,
   "metadata": {
    "collapsed": false
   },
   "outputs": [
    {
     "name": "stderr",
     "output_type": "stream",
     "text": [
      "C:\\Users\\amyed\\Anaconda3\\lib\\site-packages\\ipykernel\\__main__.py:10: RuntimeWarning: overflow encountered in exp\n"
     ]
    }
   ],
   "source": [
    "costs = NN.fit(train_x, train_y, iterations=10000, learning_rate=3e-4)"
   ]
  },
  {
   "cell_type": "markdown",
   "metadata": {},
   "source": [
    "Test the network"
   ]
  },
  {
   "cell_type": "code",
   "execution_count": 8,
   "metadata": {
    "collapsed": false,
    "scrolled": false
   },
   "outputs": [
    {
     "name": "stdout",
     "output_type": "stream",
     "text": [
      "Malignant\t[ 0.809954    0.80652158]\t\t1\n",
      "Malignant\t[ 0.809954    0.80652158]\t\t1\n",
      "Malignant\t[ 0.809954    0.80652158]\t\t1\n",
      "Malignant\t[ 0.809954    0.80652158]\t\t1\n",
      "Malignant\t[ 0.809954    0.80652158]\t\t1\n",
      "Malignant\t[ 0.809954    0.80652158]\t\t0\n",
      "Benign\t\t[ 0.19253737  0.20148478]\t\t0\n",
      "Benign\t\t[ 0.19253737  0.20148478]\t\t0\n",
      "Benign\t\t[ 0.19253737  0.20148478]\t\t0\n",
      "Malignant\t[ 0.809954    0.80652158]\t\t0\n",
      "Benign\t\t[ 0.19253737  0.20148478]\t\t0\n",
      "Malignant\t[ 0.809954    0.80652161]\t\t1\n",
      "\n",
      "Accuracy: 83.333%\n"
     ]
    },
    {
     "name": "stderr",
     "output_type": "stream",
     "text": [
      "C:\\Users\\amyed\\Anaconda3\\lib\\site-packages\\ipykernel\\__main__.py:10: RuntimeWarning: overflow encountered in exp\n"
     ]
    }
   ],
   "source": [
    "h = NN.predict(test_x)\n",
    "\n",
    "correct = 0\n",
    "total = 0\n",
    "\n",
    "\n",
    "for line in range(len(h)):\n",
    "    result = h[line]\n",
    "    if max(result) == h[line, 0]: # if first item is greatest\n",
    "        print(\"Malignant\", end='\\t')\n",
    "        if cancer.target[train_size+line] == 1:\n",
    "            correct += 1\n",
    "    else:\n",
    "        print('Benign', end='\\t\\t')\n",
    "        if cancer.target[train_size+line] == 0:\n",
    "            correct += 1\n",
    "    \n",
    "    print(result, end='\\t\\t')\n",
    "    print(cancer.target[train_size+line])\n",
    "    total += 1\n",
    "\n",
    "print('\\nAccuracy: '+str(round(correct*100/total, 3))+'%')"
   ]
  },
  {
   "cell_type": "code",
   "execution_count": null,
   "metadata": {
    "collapsed": true
   },
   "outputs": [],
   "source": []
  }
 ],
 "metadata": {
  "kernelspec": {
   "display_name": "Python 3",
   "language": "python",
   "name": "python3"
  },
  "language_info": {
   "codemirror_mode": {
    "name": "ipython",
    "version": 3
   },
   "file_extension": ".py",
   "mimetype": "text/x-python",
   "name": "python",
   "nbconvert_exporter": "python",
   "pygments_lexer": "ipython3",
   "version": "3.6.0"
  }
 },
 "nbformat": 4,
 "nbformat_minor": 2
}
